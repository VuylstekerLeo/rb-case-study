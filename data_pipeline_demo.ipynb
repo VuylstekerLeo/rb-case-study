{
 "cells": [
  {
   "cell_type": "code",
   "execution_count": 1,
   "id": "850370d4-0d78-4d62-9555-f510b51a9876",
   "metadata": {
    "tags": []
   },
   "outputs": [
    {
     "name": "stderr",
     "output_type": "stream",
     "text": [
      "24/07/22 15:05:31 WARN Utils: Your hostname, leo-HP-Pavilion-Power-Laptop-15-cb0xx resolves to a loopback address: 127.0.1.1; using 192.168.1.11 instead (on interface wlo1)\n",
      "24/07/22 15:05:31 WARN Utils: Set SPARK_LOCAL_IP if you need to bind to another address\n",
      "Setting default log level to \"WARN\".\n",
      "To adjust logging level use sc.setLogLevel(newLevel). For SparkR, use setLogLevel(newLevel).\n",
      "24/07/22 15:05:32 WARN NativeCodeLoader: Unable to load native-hadoop library for your platform... using builtin-java classes where applicable\n"
     ]
    }
   ],
   "source": [
    "# Spark session\n",
    "from pyspark.sql import SparkSession\n",
    "\n",
    "spark = (\n",
    "    SparkSession\n",
    "    .builder\n",
    "    .enableHiveSupport()\n",
    "    .appName(\"Pipeline demo\")\n",
    "    .getOrCreate()\n",
    ")"
   ]
  },
  {
   "cell_type": "code",
   "execution_count": 5,
   "id": "83affd98-b526-495d-bcf5-2914826664df",
   "metadata": {
    "tags": []
   },
   "outputs": [
    {
     "name": "stderr",
     "output_type": "stream",
     "text": [
      "24/07/22 15:11:39 WARN ResolveSessionCatalog: A Hive serde table will be created as there is no table provider specified. You can set spark.sql.legacy.createHiveTableByDefault to false so that native data source table will be created instead.\n",
      "24/07/22 15:11:39 WARN HiveMetaStore: Location: file:/home/leo/PycharmProjects/rb-case-study/spark-warehouse/bronze.db/raw_club_elo specified for non-external table:raw_club_elo\n",
      "24/07/22 15:11:40 WARN ResolveSessionCatalog: A Hive serde table will be created as there is no table provider specified. You can set spark.sql.legacy.createHiveTableByDefault to false so that native data source table will be created instead.\n",
      "24/07/22 15:11:40 WARN HiveMetaStore: Location: file:/home/leo/PycharmProjects/rb-case-study/spark-warehouse/bronze.db/raw_match_info specified for non-external table:raw_match_info\n",
      "24/07/22 15:11:40 WARN ResolveSessionCatalog: A Hive serde table will be created as there is no table provider specified. You can set spark.sql.legacy.createHiveTableByDefault to false so that native data source table will be created instead.\n",
      "24/07/22 15:11:40 WARN HiveMetaStore: Location: file:/home/leo/PycharmProjects/rb-case-study/spark-warehouse/bronze.db/raw_match_summary specified for non-external table:raw_match_summary\n",
      "24/07/22 15:11:40 WARN ResolveSessionCatalog: A Hive serde table will be created as there is no table provider specified. You can set spark.sql.legacy.createHiveTableByDefault to false so that native data source table will be created instead.\n",
      "24/07/22 15:11:40 WARN HiveMetaStore: Location: file:/home/leo/PycharmProjects/rb-case-study/spark-warehouse/silver.db/calculated_summary specified for non-external table:calculated_summary\n"
     ]
    },
    {
     "data": {
      "text/plain": [
       "DataFrame[]"
      ]
     },
     "execution_count": 5,
     "metadata": {},
     "output_type": "execute_result"
    }
   ],
   "source": [
    "# Create tables\n",
    "\n",
    "# raw_club_elo\n",
    "spark.sql(\"drop table if exists bronze.raw_club_elo\")\n",
    "spark.sql(\n",
    "    \"\"\"\n",
    "    create table if not exists bronze.raw_club_elo(\n",
    "    Rank long,\n",
    "    Club string,\n",
    "    Country string,\n",
    "    Level int,\n",
    "    Elo double,\n",
    "    From date,\n",
    "    To date,\n",
    "    file_modification_time timestamp\n",
    "    )\n",
    "    \"\"\"\n",
    ")\n",
    "\n",
    "# raw_match_info\n",
    "spark.sql(\"drop table if exists bronze.raw_match_info\")\n",
    "spark.sql(\n",
    "    \"\"\"\n",
    "    create table if not exists bronze.raw_match_info(\n",
    "    match_id int,\n",
    "    home_team string,\n",
    "    away_team string,\n",
    "    venue string,\n",
    "    date date,\n",
    "    file_modification_time timestamp\n",
    "    )\n",
    "    \"\"\"\n",
    ")\n",
    "\n",
    "# raw_match_summary\n",
    "spark.sql(\"drop table if exists bronze.raw_match_summary\")\n",
    "spark.sql(\n",
    "    \"\"\"\n",
    "    create table if not exists bronze.raw_match_summary(\n",
    "    match_id int,\n",
    "    team_id string,\n",
    "    goals int,\n",
    "    shots int,\n",
    "    possession int,\n",
    "    file_modification_time timestamp\n",
    "    )\n",
    "    \"\"\"\n",
    ")\n",
    "\n",
    "# calculated summary\n",
    "spark.sql(\"drop table if exists silver.calculated_summary\")\n",
    "spark.sql(\n",
    "    \"\"\"\n",
    "    create table if not exists silver.calculated_summary(\n",
    "    venue string,\n",
    "    date date,\n",
    "    home_team string,\n",
    "    home_elo double,\n",
    "    home_goals int,\n",
    "    home_shots int,\n",
    "    home_possession int,\n",
    "    away_team string,\n",
    "    away_elo double,\n",
    "    away_goals int,\n",
    "    away_shots int,\n",
    "    away_possession int\n",
    "    )\n",
    "    \"\"\"\n",
    ")"
   ]
  },
  {
   "cell_type": "code",
   "execution_count": 9,
   "id": "2052324d-b6c7-47f8-897d-9b9c23a4573e",
   "metadata": {
    "tags": []
   },
   "outputs": [
    {
     "name": "stdout",
     "output_type": "stream",
     "text": [
      "['2024-07-21_15-48-39.csv', '2024-07-21_21-25-42.csv', '2024-07-21_21-25-23.csv', '2024-07-21_16-04-35.csv', '2024-07-21_15-51-05.csv']\n"
     ]
    }
   ],
   "source": [
    "import os\n",
    "import pathlib\n",
    "\n",
    "# current state of ingest club_elo folder\n",
    "root = os.getcwd()\n",
    "ingest_folder = f\"{root}/data/raw/club_elo_api\"\n",
    "print(os.listdir(ingest_folder))"
   ]
  },
  {
   "cell_type": "code",
   "execution_count": 6,
   "id": "93d2935a-a8ee-45f3-a4dd-d52959dabb9b",
   "metadata": {
    "tags": []
   },
   "outputs": [
    {
     "name": "stdout",
     "output_type": "stream",
     "text": [
      "0 0 0 0\n"
     ]
    }
   ],
   "source": [
    "# every table is empty\n",
    "print(\n",
    "    spark.table(\"bronze.raw_club_elo\").count(),\n",
    "    spark.table(\"bronze.raw_match_info\").count(),\n",
    "    spark.table(\"bronze.raw_match_summary\").count(),\n",
    "    spark.table(\"silver.calculated_summary\").count()\n",
    ")"
   ]
  },
  {
   "cell_type": "code",
   "execution_count": 11,
   "id": "eec22d5d-d251-4871-86dd-93aa865f1a5f",
   "metadata": {
    "tags": []
   },
   "outputs": [],
   "source": [
    "from datetime import date, datetime\n",
    "from pyspark.sql.types import StructType, StringType, StructField, IntegerType, DateType, TimestampType"
   ]
  },
  {
   "cell_type": "code",
   "execution_count": 12,
   "id": "ad945734-910d-4357-96f7-9f4fd81338f1",
   "metadata": {
    "tags": []
   },
   "outputs": [
    {
     "name": "stderr",
     "output_type": "stream",
     "text": [
      "                                                                                \r"
     ]
    }
   ],
   "source": [
    "# mock data raw_match_info\n",
    "schema = StructType([\n",
    "    StructField(\"match_id\", IntegerType(), True),\n",
    "    StructField(\"home_team\", StringType(), True),\n",
    "    StructField(\"away_team\", StringType(), True),\n",
    "    StructField(\"venue\", StringType(), True),\n",
    "    StructField(\"date\", DateType(), True),\n",
    "    StructField(\"file_modification_time\", TimestampType(), True)\n",
    "])\n",
    "data = [\n",
    "    (1, \"Lille\", \"Lens\", \"Pierre Mauroy\", date(2024, 3, 29), datetime.now()),\n",
    "    (2, \"Lens\", \"Lille\", \"Bollaert\", date(2023, 8, 10), datetime.now())\n",
    "]\n",
    "\n",
    "# Create DataFrame\n",
    "df = spark.createDataFrame(data, schema=schema)\n",
    "df.write.mode(\"overwrite\").insertInto(\"bronze.raw_match_info\", overwrite=True)"
   ]
  },
  {
   "cell_type": "code",
   "execution_count": 14,
   "id": "9536912b-6b73-4890-be33-5f783931d025",
   "metadata": {
    "tags": []
   },
   "outputs": [
    {
     "name": "stdout",
     "output_type": "stream",
     "text": [
      "+--------+---------+---------+-------------+----------+----------------------+\n",
      "|match_id|home_team|away_team|        venue|      date|file_modification_time|\n",
      "+--------+---------+---------+-------------+----------+----------------------+\n",
      "|       2|     Lens|    Lille|     Bollaert|2023-08-10|  2024-07-22 15:20:...|\n",
      "|       1|    Lille|     Lens|Pierre Mauroy|2024-03-29|  2024-07-22 15:20:...|\n",
      "+--------+---------+---------+-------------+----------+----------------------+\n",
      "\n"
     ]
    }
   ],
   "source": [
    "spark.table(\"bronze.raw_match_info\").show()"
   ]
  },
  {
   "cell_type": "code",
   "execution_count": 13,
   "id": "08f1b388-57d6-473a-9c15-312d84bbcf51",
   "metadata": {
    "tags": []
   },
   "outputs": [],
   "source": [
    "# mock data raw_match_summary\n",
    "schema = StructType([\n",
    "    StructField(\"match_id\", IntegerType(), True),\n",
    "    StructField(\"team_id\", StringType(), True),\n",
    "    StructField(\"goals\", IntegerType(), True),\n",
    "    StructField(\"shots\", IntegerType(), True),\n",
    "    StructField(\"possession\", IntegerType(), True),\n",
    "    StructField(\"file_modification_time\", TimestampType(), True)\n",
    "])\n",
    "data = [\n",
    "    (1, \"Lille\", 2, 15, 49, datetime.now()),\n",
    "    (2, \"Lille\", 1, 8, 56, datetime.now()),\n",
    "    (1, \"Lens\", 1, 9, 51, datetime.now()),\n",
    "    (2, \"Lens\", 1, 14, 4, datetime.now()),\n",
    "]\n",
    "\n",
    "# Create DataFrame\n",
    "df = spark.createDataFrame(data, schema=schema)\n",
    "df.write.mode(\"overwrite\").insertInto(\"bronze.raw_match_summary\", overwrite=True)"
   ]
  },
  {
   "cell_type": "code",
   "execution_count": 15,
   "id": "e6b74d2a-c575-4b4e-9fd5-f290050557e4",
   "metadata": {
    "tags": []
   },
   "outputs": [
    {
     "name": "stdout",
     "output_type": "stream",
     "text": [
      "+--------+-------+-----+-----+----------+----------------------+\n",
      "|match_id|team_id|goals|shots|possession|file_modification_time|\n",
      "+--------+-------+-----+-----+----------+----------------------+\n",
      "|       1|  Lille|    2|   15|        49|  2024-07-22 15:21:...|\n",
      "|       2|   Lens|    1|   14|         4|  2024-07-22 15:21:...|\n",
      "|       1|   Lens|    1|    9|        51|  2024-07-22 15:21:...|\n",
      "|       2|  Lille|    1|    8|        56|  2024-07-22 15:21:...|\n",
      "+--------+-------+-----+-----+----------+----------------------+\n",
      "\n"
     ]
    }
   ],
   "source": [
    "spark.table(\"bronze.raw_match_summary\").show()"
   ]
  },
  {
   "cell_type": "code",
   "execution_count": 17,
   "id": "494fd4ed-8ae2-493c-8533-5fa683df76d0",
   "metadata": {
    "tags": []
   },
   "outputs": [],
   "source": [
    "# step 1: Ingest\n",
    "from src.workloads.club_elo_api import etl as club_elo_api_etl\n",
    "\n",
    "club_elo_api_etl(\"Lille\", ingest_folder)\n",
    "club_elo_api_etl(\"Lens\", ingest_folder)"
   ]
  },
  {
   "cell_type": "code",
   "execution_count": 18,
   "id": "ef9f396c-6214-47ab-850c-4fba2015d1c7",
   "metadata": {
    "tags": []
   },
   "outputs": [
    {
     "name": "stdout",
     "output_type": "stream",
     "text": [
      "['2024-07-21_15-48-39.csv', '2024-07-21_21-25-42.csv', '2024-07-22_15-23-12.csv', '2024-07-22_15-22-57.csv', '2024-07-21_21-25-23.csv', '2024-07-21_16-04-35.csv', '2024-07-21_15-51-05.csv']\n"
     ]
    }
   ],
   "source": [
    "print(os.listdir(ingest_folder))"
   ]
  },
  {
   "cell_type": "code",
   "execution_count": 19,
   "id": "4d2b2590-28cc-4833-93f9-0053f97ad8de",
   "metadata": {
    "tags": []
   },
   "outputs": [
    {
     "name": "stderr",
     "output_type": "stream",
     "text": [
      "                                                                                \r"
     ]
    }
   ],
   "source": [
    "# step 2: Feed raw_club_elo\n",
    "from src.workloads.club_elo import etl as club_elo_etl\n",
    "\n",
    "club_elo_etl(spark, ingest_folder)"
   ]
  },
  {
   "cell_type": "code",
   "execution_count": 21,
   "id": "9d4b9aa0-99b3-4bf4-9e79-d0d456109a3b",
   "metadata": {
    "tags": []
   },
   "outputs": [
    {
     "name": "stdout",
     "output_type": "stream",
     "text": [
      "+----+----+-------+-----+-------------+----------+----------+----------------------+\n",
      "|Rank|Club|Country|Level|          Elo|      From|        To|file_modification_time|\n",
      "+----+----+-------+-----+-------------+----------+----------+----------------------+\n",
      "|null|Lens|    FRA|    1|1341.29150391|1945-07-01|1945-08-26|  2024-07-22 15:23:...|\n",
      "|null|Lens|    FRA|    1|1351.79162598|1945-08-27|1945-09-02|  2024-07-22 15:23:...|\n",
      "|null|Lens|    FRA|    1|1362.09765625|1945-09-03|1945-09-09|  2024-07-22 15:23:...|\n",
      "|null|Lens|    FRA|    1|1358.89404297|1945-09-10|1945-09-16|  2024-07-22 15:23:...|\n",
      "|null|Lens|    FRA|    1| 1352.7779541|1945-09-17|1945-09-23|  2024-07-22 15:23:...|\n",
      "|null|Lens|    FRA|    1| 1361.4765625|1945-09-24|1945-09-30|  2024-07-22 15:23:...|\n",
      "|null|Lens|    FRA|    1|1371.03283691|1945-10-01|1945-10-07|  2024-07-22 15:23:...|\n",
      "|null|Lens|    FRA|    1|1380.92358398|1945-10-08|1945-10-14|  2024-07-22 15:23:...|\n",
      "|null|Lens|    FRA|    1|1372.29541016|1945-10-15|1945-10-21|  2024-07-22 15:23:...|\n",
      "|null|Lens|    FRA|    1|1374.16650391|1945-10-22|1945-10-28|  2024-07-22 15:23:...|\n",
      "|null|Lens|    FRA|    1|1370.24304199|1945-10-29|1945-11-04|  2024-07-22 15:23:...|\n",
      "|null|Lens|    FRA|    1|1361.83032227|1945-11-05|1945-11-11|  2024-07-22 15:23:...|\n",
      "|null|Lens|    FRA|    1|1375.40466309|1945-11-12|1945-11-18|  2024-07-22 15:23:...|\n",
      "|null|Lens|    FRA|    1|1390.37890625|1945-11-19|1945-12-02|  2024-07-22 15:23:...|\n",
      "|null|Lens|    FRA|    1|1394.52636719|1945-12-03|1945-12-09|  2024-07-22 15:23:...|\n",
      "|null|Lens|    FRA|    1|1377.26037598|1945-12-10|1945-12-16|  2024-07-22 15:23:...|\n",
      "|null|Lens|    FRA|    1|1365.26037598|1945-12-17|1945-12-23|  2024-07-22 15:23:...|\n",
      "|null|Lens|    FRA|    1|1369.54736328|1945-12-24|1945-12-30|  2024-07-22 15:23:...|\n",
      "|null|Lens|    FRA|    1|1370.05725098|1945-12-31|1946-01-13|  2024-07-22 15:23:...|\n",
      "|null|Lens|    FRA|    1|1371.79907227|1946-01-14|1946-01-20|  2024-07-22 15:23:...|\n",
      "+----+----+-------+-----+-------------+----------+----------+----------------------+\n",
      "only showing top 20 rows\n",
      "\n"
     ]
    }
   ],
   "source": [
    "spark.table(\"bronze.raw_club_elo\").show()"
   ]
  },
  {
   "cell_type": "code",
   "execution_count": 22,
   "id": "a0c5d708-433e-447e-89b0-722b195b9f02",
   "metadata": {
    "tags": []
   },
   "outputs": [],
   "source": [
    "# step 3: feed calculated_summary\n",
    "from src.workloads.calculated_summary import etl as calculated_summary_etl\n",
    "\n",
    "calculated_summary_etl(spark)"
   ]
  },
  {
   "cell_type": "code",
   "execution_count": 23,
   "id": "a2d58e47-ffc5-45a8-b117-b810e323dd4f",
   "metadata": {
    "tags": []
   },
   "outputs": [
    {
     "name": "stdout",
     "output_type": "stream",
     "text": [
      "+-------------+----------+---------+-------------+----------+----------+---------------+---------+-------------+----------+----------+---------------+\n",
      "|        venue|      date|home_team|     home_elo|home_goals|home_shots|home_possession|away_team|     away_elo|away_goals|away_shots|away_possession|\n",
      "+-------------+----------+---------+-------------+----------+----------+---------------+---------+-------------+----------+----------+---------------+\n",
      "|     Bollaert|2023-08-10|     Lens|1759.54455566|         1|        14|              4|    Lille|1698.28527832|         1|         8|             56|\n",
      "|Pierre Mauroy|2024-03-29|    Lille|1739.51953125|         2|        15|             49|     Lens|1747.44165039|         1|         9|             51|\n",
      "+-------------+----------+---------+-------------+----------+----------+---------------+---------+-------------+----------+----------+---------------+\n",
      "\n"
     ]
    }
   ],
   "source": [
    "spark.table(\"silver.calculated_summary\").show()"
   ]
  }
 ],
 "metadata": {
  "kernelspec": {
   "display_name": "Python 3 (ipykernel)",
   "language": "python",
   "name": "python3"
  },
  "language_info": {
   "codemirror_mode": {
    "name": "ipython",
    "version": 3
   },
   "file_extension": ".py",
   "mimetype": "text/x-python",
   "name": "python",
   "nbconvert_exporter": "python",
   "pygments_lexer": "ipython3",
   "version": "3.10.9"
  }
 },
 "nbformat": 4,
 "nbformat_minor": 5
}
